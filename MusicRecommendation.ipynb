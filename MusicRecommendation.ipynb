{
 "cells": [
  {
   "cell_type": "code",
   "execution_count": 2,
   "id": "a20c9e2a-0553-4d5b-801f-aeb34f9dc0a4",
   "metadata": {},
   "outputs": [
    {
     "name": "stdout",
     "output_type": "stream",
     "text": [
      "Access token obtained successfully.\n"
     ]
    }
   ],
   "source": [
    "import requests\n",
    "import base64\n",
    "\n",
    "CLIENT_ID = \"f9761c2fec534cb1a5cff8397d9884e6\"\n",
    "CLIENT_SECRET = \"d7219c2ed840468e87d0bc21a0101ec6\"\n",
    "\n",
    "client_credentials = f\"{CLIENT_ID}:{CLIENT_SECRET}\"\n",
    "client_credentials_base64 = base64.b64encode(client_credentials.encode())\n",
    "\n",
    "token_url = \"https://accounts.spotify.com/api/token\"\n",
    "headers = {\n",
    "    \"Authorization\" : f\"Basic {client_credentials_base64.decode()}\"\n",
    "}\n",
    "data = {\n",
    "    \"grant_type\" : \"client_credentials\"\n",
    "}\n",
    "response = requests.post(token_url, data=data, headers=headers)\n",
    "\n",
    "if response.status_code == 200:\n",
    "    access_token = response.json()[\"access_token\"]\n",
    "    print(\"Access token obtained successfully.\")\n",
    "else:\n",
    "    print(\"Error obtaining access token\")\n",
    "    exit()"
   ]
  },
  {
   "cell_type": "code",
   "execution_count": 2,
   "id": "6eabe957-cc64-4e8c-a0e9-34c8bb6ed757",
   "metadata": {},
   "outputs": [
    {
     "name": "stdout",
     "output_type": "stream",
     "text": [
      "Collecting spotipy\n",
      "  Downloading spotipy-2.24.0-py3-none-any.whl.metadata (4.9 kB)\n",
      "Collecting redis>=3.5.3 (from spotipy)\n",
      "  Downloading redis-5.2.0-py3-none-any.whl.metadata (9.1 kB)\n",
      "Requirement already satisfied: requests>=2.25.0 in c:\\users\\abc\\anaconda3\\lib\\site-packages (from spotipy) (2.32.2)\n",
      "Requirement already satisfied: urllib3>=1.26.0 in c:\\users\\abc\\anaconda3\\lib\\site-packages (from spotipy) (2.2.2)\n",
      "Requirement already satisfied: charset-normalizer<4,>=2 in c:\\users\\abc\\anaconda3\\lib\\site-packages (from requests>=2.25.0->spotipy) (2.0.4)\n",
      "Requirement already satisfied: idna<4,>=2.5 in c:\\users\\abc\\anaconda3\\lib\\site-packages (from requests>=2.25.0->spotipy) (3.7)\n",
      "Requirement already satisfied: certifi>=2017.4.17 in c:\\users\\abc\\anaconda3\\lib\\site-packages (from requests>=2.25.0->spotipy) (2024.6.2)\n",
      "Downloading spotipy-2.24.0-py3-none-any.whl (30 kB)\n",
      "Downloading redis-5.2.0-py3-none-any.whl (261 kB)\n",
      "   ---------------------------------------- 0.0/261.4 kB ? eta -:--:--\n",
      "   ----------------- ---------------------- 112.6/261.4 kB 3.2 MB/s eta 0:00:01\n",
      "   ---------------------------------------  256.0/261.4 kB 3.9 MB/s eta 0:00:01\n",
      "   ---------------------------------------- 261.4/261.4 kB 3.2 MB/s eta 0:00:00\n",
      "Installing collected packages: redis, spotipy\n",
      "Successfully installed redis-5.2.0 spotipy-2.24.0\n",
      "Note: you may need to restart the kernel to use updated packages.\n"
     ]
    }
   ],
   "source": [
    "pip install spotipy"
   ]
  },
  {
   "cell_type": "code",
   "execution_count": 3,
   "id": "c6b1a81d-65b1-4416-9909-a1cc0e1aa6bd",
   "metadata": {},
   "outputs": [],
   "source": [
    "import pandas as pd\n",
    "import spotipy\n",
    "from spotipy.oauth2 import SpotifyOAuth\n",
    "\n",
    "def get_trending_playlist_data(playlist_ids, access_token):\n",
    "    sp = spotipy.Spotify(auth=access_token)\n",
    "    music_data = []\n",
    "    for playlist_id in playlist_ids:\n",
    "        print(f\"Fetching data from playlist: {playlist_id}\")\n",
    "        playlist_tracks = sp.playlist_tracks(playlist_id, fields=\"items(track(id, name, artists, album(id, name)))\")\n",
    "        for track_info in playlist_tracks[\"items\"]:\n",
    "            track = track_info[\"track\"]\n",
    "            track_name = track[\"name\"]\n",
    "            artists = \", \".join([artist[\"name\"] for artist in track[\"artists\"]])\n",
    "            album_name = track[\"album\"][\"name\"]\n",
    "            album_id = track[\"album\"][\"id\"]\n",
    "            track_id = track[\"id\"]\n",
    "    \n",
    "            audio_features = sp.audio_features(track_id)[0] if track_id != \"Not available\" else None\n",
    "            try:\n",
    "                album_info = sp.album(album_id) if album_id != \"Not available\" else None\n",
    "                release_date = album_info[\"release_date\"] if album_info else None\n",
    "            except:\n",
    "                release_date = None\n",
    "            try:\n",
    "                track_info = sp.track(track_id) if track_id != \"Not available\" else None\n",
    "                popularity = track_info[\"popularity\"] if track_info else None\n",
    "            except:\n",
    "                popularity = None\n",
    "\n",
    "            track_data = {\n",
    "                \"Track Name\" : track_name,\n",
    "                \"Artist\" : artists,\n",
    "                \"Album Name\" : album_name,\n",
    "                \"Album ID\" : album_id,\n",
    "                \"Track ID\" : track_id,\n",
    "                \"Popularity\" : popularity,\n",
    "                \"Release Date\" : release_date,\n",
    "                \"Duration (ms) \" : audio_features[\"duration_ms\"] if audio_features else None,\n",
    "                \"Explicit\" : track_info.get(\"explicit\",None),\n",
    "                \"External URLs\" : track_info.get(\"external_urls\",{}).get(\"spotify\",None),\n",
    "                \"Danceability\" : audio_features[\"danceability\"] if audio_features else None,\n",
    "                \"Energy\" : audio_features[\"energy\"] if audio_features else None,\n",
    "                \"Key\" : audio_features[\"key\"] if audio_features else None,\n",
    "                \"Loudness\" : audio_features[\"loudness\"] if audio_features else None,\n",
    "                \"Mode\" : audio_features[\"mode\"] if audio_features else None,\n",
    "                \"Speechiness\" : audio_features[\"speechiness\"] if audio_features else None,\n",
    "                \"Acousticness\" : audio_features[\"acousticness\"] if audio_features else None,\n",
    "                \"Instrumentalness\" : audio_features[\"instrumentalness\"] if audio_features else None,\n",
    "                \"Liveness\" : audio_features[\"liveness\"] if audio_features else None,\n",
    "                \"Valence\" : audio_features[\"valence\"] if audio_features else None,\n",
    "                \"Tempo\" : audio_features[\"tempo\"] if audio_features else None,\n",
    "            }\n",
    "            music_data.append(track_data)\n",
    "    df = pd.DataFrame(music_data)\n",
    "    return df"
   ]
  },
  {
   "cell_type": "code",
   "execution_count": 4,
   "id": "83d7248c-cede-4910-8afe-69714aced644",
   "metadata": {},
   "outputs": [
    {
     "name": "stdout",
     "output_type": "stream",
     "text": [
      "Fetching data from playlist: 37i9dQZF1DX76Wlfdnj7AP\n",
      "Fetching data from playlist: 37i9dQZF1DXcBWIGoYBM5M\n",
      "Fetching data from playlist: 37i9dQZF1DX4JAvHpjipBk\n",
      "Total unique songs fetched: 250\n",
      "0                               APT.\n",
      "1              The Emptiness Machine\n",
      "2                        Not Like Us\n",
      "3                        Rah Tah Tah\n",
      "4                            Disease\n",
      "                   ...              \n",
      "245                       Good to Me\n",
      "246                     APOLOGY SONG\n",
      "247                       Recorrerte\n",
      "248    Benefits (feat. Tee Grizzley)\n",
      "249                        BLUEBERRY\n",
      "Name: Track Name, Length: 250, dtype: object\n"
     ]
    }
   ],
   "source": [
    "playlist_ids = [\n",
    "    \"37i9dQZF1DX76Wlfdnj7AP\",  # Add more playlist IDs here\n",
    "    \"37i9dQZF1DXcBWIGoYBM5M\",  # Example additional playlist\n",
    "    \"37i9dQZF1DX4JAvHpjipBk\"   # Another playlistL\n",
    "]\n",
    "music_df = get_trending_playlist_data(playlist_ids, access_token)\n",
    "print(f\"Total unique songs fetched: {len(music_df)}\")\n",
    "print(music_df[\"Track Name\"])\n",
    "music_df.to_csv(\"music_data.csv\", index=False)\n"
   ]
  },
  {
   "cell_type": "code",
   "execution_count": 7,
   "id": "bba50cc5-d056-4244-92d1-09740d8b28e8",
   "metadata": {},
   "outputs": [
    {
     "name": "stdout",
     "output_type": "stream",
     "text": [
      "Track Name          0\n",
      "Artist              0\n",
      "Album Name          0\n",
      "Album ID            0\n",
      "Track ID            0\n",
      "Popularity          0\n",
      "Release Date        0\n",
      "Duration (ms)       0\n",
      "Explicit            0\n",
      "External URLs       0\n",
      "Danceability        0\n",
      "Energy              0\n",
      "Key                 0\n",
      "Loudness            0\n",
      "Mode                0\n",
      "Speechiness         0\n",
      "Acousticness        0\n",
      "Instrumentalness    0\n",
      "Liveness            0\n",
      "Valence             0\n",
      "Tempo               0\n",
      "dtype: int64\n"
     ]
    }
   ],
   "source": [
    "print(music_df.isnull().sum())"
   ]
  },
  {
   "cell_type": "code",
   "execution_count": 5,
   "id": "8c38027e-5728-40cc-a424-aca8e99c6253",
   "metadata": {},
   "outputs": [],
   "source": [
    "import pandas as pd\n",
    "import numpy as np\n",
    "from sklearn.model_selection import train_test_split\n",
    "from sklearn.preprocessing import MinMaxScaler\n",
    "from datetime import datetime\n",
    "from sklearn.metrics.pairwise import cosine_similarity\n",
    "\n",
    "data = pd.read_csv(\"music_data.csv\")"
   ]
  },
  {
   "cell_type": "code",
   "execution_count": 6,
   "id": "0db87d1f-1aa5-4291-aeac-7a7365fa4c8a",
   "metadata": {},
   "outputs": [],
   "source": [
    "def calculate_weighted_popularity(release_date):\n",
    "    release_date = datetime.strptime(release_date, \"%Y-%m-%d\")\n",
    "    time_span = datetime.now() - release_date\n",
    "    weight = 1 / (time_span.days +1 )\n",
    "    return weight"
   ]
  },
  {
   "cell_type": "code",
   "execution_count": 7,
   "id": "0ce2f52e-8be4-4181-84e4-2f45a1f3bb3a",
   "metadata": {},
   "outputs": [],
   "source": [
    "scaler = MinMaxScaler()\n",
    "music_features = music_df[[\"Danceability\",\"Energy\",\"Key\",\"Loudness\",\"Mode\",\"Speechiness\",\"Acousticness\",\"Instrumentalness\",\"Liveness\",\"Valence\",\"Tempo\"]].values\n",
    "music_features_scaled = scaler.fit_transform(music_features)"
   ]
  },
  {
   "cell_type": "code",
   "execution_count": 8,
   "id": "716dd126-976c-49fe-9efb-a177f95b3cb9",
   "metadata": {},
   "outputs": [],
   "source": [
    "def content_based_recommendations(input_song_name, num_recommendations=5):\n",
    "    if input_song_name not in music_df[\"Track Name\"].values:\n",
    "        print(f\"'{input_song_name}' not found in dataset. Please enter a valid song name.\")\n",
    "        return\n",
    "    input_song_index = music_df[music_df[\"Track Name\"] == input_song_name].index[0]\n",
    "    similarity_scores = cosine_similarity([music_features_scaled[input_song_index]], music_features_scaled)\n",
    "    similar_song_indices = similarity_scores.argsort()[0][::-1][1:num_recommendations + 1]\n",
    "    content_based_recommendations = music_df.iloc[similar_song_indices][[\"Track Name\", \"Artist\", \"Album Name\", \"Release Date\", \"Popularity\"]]\n",
    "    return content_based_recommendations"
   ]
  },
  {
   "cell_type": "code",
   "execution_count": 9,
   "id": "a7ac19fc-8a06-4a26-a217-69c80f157b30",
   "metadata": {},
   "outputs": [],
   "source": [
    "import pandas as pd\n",
    "\n",
    "def hybrid_recommendations(input_song_name, num_recommendations=5, alpha=0.5):\n",
    "    if input_song_name not in music_df[\"Track Name\"].values:\n",
    "         print(f\"'{input_song_name}' not found in dataset. Please enter a valid song name.\")\n",
    "         return\n",
    "    content_based_rec = content_based_recommendations(input_song_name, num_recommendations)\n",
    "    popularity_score = music_df.loc[music_df[\"Track Name\"] == input_song_name, \"Popularity\"].values[0]\n",
    "    weighted_popularity_score = popularity_score * calculate_weighted_popularity(\n",
    "        music_df.loc[music_df[\"Track Name\"] == input_song_name, \"Release Date\"].values[0]\n",
    "    )\n",
    "    new_entry = pd.DataFrame({\n",
    "        \"Track Name\" : [input_song_name],\n",
    "        \"Artist\" : [music_df.loc[music_df[\"Track Name\"] == input_song_name, \"Artist\"].values[0]],\n",
    "        \"Album Name\" : [music_df.loc[music_df[\"Track Name\"] == input_song_name, \"Album Name\"].values[0]],\n",
    "        \"Release Date\" : [music_df.loc[music_df[\"Track Name\"] == input_song_name, \"Release Date\"].values[0]],\n",
    "        \"Popularity\" : [weighted_popularity_score]\n",
    "    })\n",
    "    hybrid_recommendations = pd.concat([content_based_rec, new_entry], ignore_index=True)\n",
    "    hybrid_recommendations = hybrid_recommendations.sort_values(by=\"Popularity\", ascending=False)\n",
    "    hybrid_recommendations = hybrid_recommendations[hybrid_recommendations[\"Track Name\"] != input_song_name]\n",
    "    return hybrid_recommendations"
   ]
  },
  {
   "cell_type": "code",
   "execution_count": null,
   "id": "9d3bd736-7d64-4562-8107-e7844fefc6ae",
   "metadata": {},
   "outputs": [
    {
     "name": "stdout",
     "output_type": "stream",
     "text": [
      "enter song\n"
     ]
    }
   ],
   "source": [
    "input_song_name = input(print(\"enter song\"))\n",
    "recommendations = hybrid_recommendations(input_song_name, num_recommendations=5)\n",
    "print(f\"Hybrid recommended songs for '{input_song_name}' :\")\n",
    "print(recommendations)"
   ]
  },
  {
   "cell_type": "code",
   "execution_count": null,
   "id": "d2acc33e-44ac-4d56-ba93-a7c4b6007132",
   "metadata": {},
   "outputs": [],
   "source": []
  }
 ],
 "metadata": {
  "kernelspec": {
   "display_name": "Python 3 (ipykernel)",
   "language": "python",
   "name": "python3"
  },
  "language_info": {
   "codemirror_mode": {
    "name": "ipython",
    "version": 3
   },
   "file_extension": ".py",
   "mimetype": "text/x-python",
   "name": "python",
   "nbconvert_exporter": "python",
   "pygments_lexer": "ipython3",
   "version": "3.12.4"
  }
 },
 "nbformat": 4,
 "nbformat_minor": 5
}
